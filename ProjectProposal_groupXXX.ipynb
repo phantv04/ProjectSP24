{
 "cells": [
  {
   "cell_type": "markdown",
   "metadata": {},
   "source": [
    "# COGS 108 - Project Proposal"
   ]
  },
  {
   "cell_type": "markdown",
   "metadata": {},
   "source": [
    "# Names\n",
    "\n",
    "- Calixto Calangi\n",
    "- Ivan Guo\n",
    "- Thoai Phan\n",
    "- Brian Ponce"
   ]
  },
  {
   "cell_type": "markdown",
   "metadata": {},
   "source": [
    "# Research Question"
   ]
  },
  {
   "cell_type": "markdown",
   "metadata": {},
   "source": [
    "Between a country's population and how much of their GDP is allocated to sports, is there a relationship to how well their respective athletes do in medal placements (gold, silver, bronze) at the Olympics? Essentially, as a result of either a country's population or GDP/expenditure towards sports, do either have a significant factor in predicting/relating to athletes' medal placements at the Olympics?\n",
    "\n"
   ]
  },
  {
   "cell_type": "markdown",
   "metadata": {},
   "source": [
    "## Background and Prior Work"
   ]
  },
  {
   "cell_type": "markdown",
   "metadata": {},
   "source": [
    "\n",
    "One cannot deny the substantial revenues that the annual Olympics bring to many countries throughout the sporting world. According to an article from the International Olympic Committee, $590 million is usually spent towards athlete development, training of coaches and players, and the accessibility of the Olympic Games throughout the world. <a name=\"cite_ref-1\"></a>[<sup>1</sup>](#cite_note-1) Some argue that the reason for these funding is due to the economic boom that might potentially happen as the Olympics encourage more tourism. After reading some background information on this topic, our group have decided to propose a tentative question: is it true that the higher the GDP of a country in that Olympic year, the higher the medal value they will receive? We would also do research on other factors, such as population size and healthcare accessibility, but we chose the Olympics because it is known to be the largest sporting celebration in terms of the number of events, athletes, and people gathered from the world for this annual event.\n",
    "\n",
    "A published work that has been completed on this topic is from a few students at Georgia Institute of Technology, where they argued that GDP per capita is the main determinant to a country’s Olympic performance. <a name=\"cite_ref-2\"></a>[<sup>1</sup>](#cite_note-2) However, after doing their research, they realized that a country’s size and healthcare expenditures per capita are the main factors that drive Olympic performance, rather than GDP per capita. To us, this is a valid argument because in the end, the better the general welfare of a country is the better their healthcare will be and athletes will have a higher chance of having better healthcare. Additionally, after analyzing some unrestricted multiple variable regression models, this group realized that the relationship between Olympic performance, country’s size, and per capita health expenditure make more sense and these were the only variables that were significant at the 5% level.\n",
    "\n",
    "After looking at this published project, we decided to consider other factors besides GDP. This project also includes the healthcare that a country receives as a factor, but we also want to see if the amount of spending and expenditures that are allocated to sports have an affect on the medals that a country receive during the Olympics. There are a lot of hidden factors that might impact athletes’ performances during this event, but the purpose of this project is to see which factors are the most significant. We also want to see if a country’s population has an affect on one’s standing in the Olympics (i.e., is it true that the larger the population size, the more likely a country is to do better?).\n",
    "\n",
    "1. <a name=\"cite_note-1\"></a> [^](#cite_ref-1) How the IOC finances a better world through sport. *International Olympic Committee*. https://olympics.com/ioc/funding \n",
    "2. <a name=\"cite_note-2\"></a> [^](#cite_ref-2) Boudreau, et.al. The Miracle on Thin Ice: How A Nation's GDP Affects its Olympic Performance. *Georgia Institute of Technology*. https://repository.gatech.edu/server/api/core/bitstreams/1aa2b537-c3de-4177-8295-3fcd3a03a965/content#:~:text=We%20estimate%20that%20GDP%20per,bronze%20medals%20a%20country%20receives. \n"
   ]
  },
  {
   "cell_type": "markdown",
   "metadata": {},
   "source": [
    "# Hypothesis\n"
   ]
  },
  {
   "cell_type": "markdown",
   "metadata": {},
   "source": [
    "The hypothesis we suppose is that more allocation of government spending/expenditure towards athletes and sports, in general, should translate to better performance and better medal placements of athletes at the Olympics, whereas population isn't as a significant contributor, given that the resources needed to succeed in sports (training equipment, facilities) is an overall better metric for athletes' performance. We think this for the first point, as preliminary research has looked at the relationship between healthcare expenditures and performance, with healthcare being a strong indicator. \n",
    "\n",
    "It would make sense, then, that how much of government spending is allocated towards sports should then be a stronger indicator of Olympic performance; the resources that are necessary for an athlete to succeed obviously include access to the best healthcare, but, more importantly, their access to top of the line sports resources (better facilities, equipment, training.)"
   ]
  },
  {
   "cell_type": "markdown",
   "metadata": {},
   "source": [
    "# Data"
   ]
  },
  {
   "cell_type": "markdown",
   "metadata": {},
   "source": [
    "\n",
    "The ideal dataset would include: GDP of Olympic-involved countries, percent of GDP/expenditures that go towards sports, athletes and where they placed in their respective sport, as well as the nation they represent. This way, we can directly compare the performance (medal-wise) of athletes and try to come up with some analysis regarding their performance and the country.\n",
    "\n",
    "As for the observations, it would based on how many avaliable athletes were recorded at the Olympics. This is because more athletes allow for more data on placement and performance; the observations on countries would be limited to how many countries compete at the Olympics, so that may vary on if some do not send any Olympic athletes at all.\n",
    "\n",
    "Ideally, this dataset would be collected via either web-scraping from the Olympic website of athletes' and their results at the Olympics (https://olympics.com/en/olympic-games/olympic-results), or from avaliable datasets that have already been compiled for public use. It would also collect countries' GDP, and the percent of expenditures that go towards sports alone. \n",
    "\n",
    "These would ideally be stored in CSV format, as we can directly manipulate and create tables, do analysis, and visualizations directly on the csv with the Python code we have seen thus far in this class. (pd.read_csv\"...\" for example) \n",
    "\n",
    "\n",
    "Real datasets that we have seen thus far include: \n",
    "https://raw.githubusercontent.com/flother/rio2016/master/athletes.csv\n",
    "This dataset collected comes from the 2016 Olympics, whereupon it has the data concerning the athletes and their information (sex, sport competed in, name), most importantly their nation and their medal placement. There are many other sources of data like this (https://github.com/cstorm125/information_value/blob/master/data/120-years-of-olympic-history-athletes-and-results/athlete_events.csv; this is 120 years worth of Olympic information), so data about the Olympics and how well athletes did is avaliable. However, in regards to the Olympic datasets, none of them strictly deal with what we want to also measure, which is GDP/expenditure/population, so that is one problem with the Olympic datasets.\n",
    "\n",
    "Of course, when looking for countries' GDP, that data is also avaliable. \n",
    "https://data.worldbank.org/indicator/NY.GDP.MKTP.CD\n",
    "\n",
    "Many countries' GDP are documented here, alongside it being in a csv format, making it somewhat closer to our ideal dataset. The problem, again, lies in that it is strictly GDP and not including Olympic performance, so we'd have to be able to create for ourselves that combined dataset to do work on it."
   ]
  },
  {
   "cell_type": "markdown",
   "metadata": {},
   "source": [
    "# Ethics & Privacy"
   ]
  },
  {
   "cell_type": "markdown",
   "metadata": {},
   "source": [
    "Some issues with the data provided thus far largely stem from terms of use. While some do specify it is avaliable for public domain, as in the case of '120 years of Olympic history: athletes and results' dataset we provided, as we go along and find more datasets online, it is important to see if 1. this data is for public use and 2. respectively cite/link to those projects/websites where we had collected them.\n",
    "\n",
    "One ethical concern that may arise in our dataset particularly affects the way we are able to do work on the Olympic data, is that not all countries competed/could compete for the Olympics, so certain countries with 'head start' may show themselves to be 'better performers' when the sample of athletes may only be comprised of a few countries. One way of handling this problem is to look at when most, if not all, countries were approved to send athletes to the Olympics. By looking at these datas, we may be able to separate eras of Olympics and what countries competed in them to look at the broader picture of performance, and then do the GDP/population work therein.\n",
    "\n",
    "Another problem is the presentation of GDP as a signficant factor in Olympic performance, a bias we have already addressed and should strive to keep in mind. We've mentioned in the background how in one study, they found out that healthcare and the country's size, rather than GDP per capita, are stronger factors in relation to Olympic performance. As such, it's important to keep in mind that it is not necessarily about GDP, but of what percent/how much of that spending is allocated to sports and sports enhancement, which is a key part of our project.\n",
    "\n",
    "Some issues with our topic date is that, while there may be data stretching all the way from 1896 for the Olympics, the data for countries' GDP that is made avaliable to the public may not stretch as far, and may not even be as accurate as we would require it to be. We would then need to line up the data that is available for both to then collect and do analysis work on it. \n"
   ]
  },
  {
   "cell_type": "markdown",
   "metadata": {},
   "source": [
    "# Team Expectations "
   ]
  },
  {
   "cell_type": "markdown",
   "metadata": {},
   "source": [
    "\n",
    "\n",
    "* Team communication: Discord, smartphone group chat; use to talk about meetings, what/whose work is being done, when things are uploaded\n",
    "* Event of conflicts: have meeting on Discord, compare\n",
    "* Workload: in progress, need to see what coding/analysis/wrangling needs to be done before division of work."
   ]
  },
  {
   "cell_type": "markdown",
   "metadata": {},
   "source": [
    "# Project Timeline Proposal"
   ]
  },
  {
   "cell_type": "markdown",
   "metadata": {},
   "source": [
    "Currently as of 5/3/24; no solid timeline past today (5/3). Plan to update based on what is required for project deadlines/checkpoints; expect to have datasets searched for, compared to, and pick ideal/best fit for our projects by Week 6. From this point, we hope to make wekely contributions since the project is due at the end of week 10.\n",
    "\n",
    "\n",
    "\n",
    "| Meeting Date  | Meeting Time| Completed Before Meeting  | Discuss at Meeting |\n",
    "|---|---|---|---|\n",
    "| 4/25  |  9PM | Read about projects, think of problems/good things about projects  | Discuss project review, submit project review; discuss plans for project proposal, what to decide on | \n",
    "| 5/2  |  9PM |  Do background checks on topic | Discuss project proposal, work on project proposal together | \n",
    "| 5/3  | 9PM  | Edit, last minute checks on proposal | Discuss final submission for project proposal, start thinking of datasets for project   |\n",
    "| Week of 5/6  | 9PM? (day TBD)  | Bring up datasets | Compare, bring up datasets we have looked at, think about methods for analysis/visualization   |\n",
    "| Week of 5/13 | 9PM(?)  | Chosen datasets at this point | Analysis work, check-in |\n",
    "| Week of 5/20 | 9PM(?) | Partial analysis complete | Compare progress on final product, agree on thoughts before finishing final analysis |\n",
    "| Week of 5/27  | 9PM(?)  | Complete analysis; Draft results/conclusion/discussion (Wasp)| Discuss/edit full project |\n",
    "| Week of 6/3 | 9PM(?)  | NA | Turn in Final Project & Group Project Surveys |"
   ]
  },
  {
   "cell_type": "markdown",
   "metadata": {},
   "source": []
  }
 ],
 "metadata": {
  "kernelspec": {
   "display_name": "Python 3 (ipykernel)",
   "language": "python",
   "name": "python3"
  },
  "language_info": {
   "codemirror_mode": {
    "name": "ipython",
    "version": 3
   },
   "file_extension": ".py",
   "mimetype": "text/x-python",
   "name": "python",
   "nbconvert_exporter": "python",
   "pygments_lexer": "ipython3",
   "version": "3.9.7"
  }
 },
 "nbformat": 4,
 "nbformat_minor": 2
}
