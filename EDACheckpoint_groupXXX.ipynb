{
 "cells": [
  {
   "cell_type": "markdown",
   "metadata": {},
   "source": [
    "# COGS 108 - EDA Checkpoint"
   ]
  },
  {
   "cell_type": "markdown",
   "metadata": {},
   "source": [
    "# Names\n",
    "\n",
    "- Calixto Calangi\n",
    "- Ivan Guo\n",
    "- Thoai Phan\n",
    "- Brian Ponce\n",
    "\n"
   ]
  },
  {
   "cell_type": "markdown",
   "metadata": {},
   "source": [
    "# Research Question"
   ]
  },
  {
   "cell_type": "markdown",
   "metadata": {},
   "source": [
    "Between a country's population and how much of their GDP is allocated to sports, is there a relationship to how well their respective athletes do in medal placements (gold, silver, bronze) at the Olympics? Essentially, as a result of either a country's population or GDP, do either have a significant factor in predicting/relating to athletes' medal placements at the Olympics?"
   ]
  },
  {
   "cell_type": "markdown",
   "metadata": {},
   "source": [
    "## Background and Prior Work"
   ]
  },
  {
   "cell_type": "markdown",
   "metadata": {},
   "source": [
    "One cannot deny the substantial revenues that the annual Olympics bring to many countries throughout the sporting world. According to an article from the International Olympic Committee, $590 million is usually spent towards athlete development, training of coaches and players, and the accessibility of the Olympic Games throughout the world. <a name=\"cite_ref-1\"></a>[<sup>1</sup>](#cite_note-1) Some argue that the reason for these funding is due to the economic boom that might potentially happen as the Olympics encourage more tourism. After reading some background information on this topic, our group have decided to propose a tentative question: is it true that the higher the GDP of a country in that Olympic year, the higher the medal value they will receive? We would also do research on other factors, such as population size and healthcare accessibility (predominantly population), but we chose the Olympics because it is known to be the largest sporting celebration in terms of the number of events, athletes, and people gathered from the world for this annual event.\n",
    "\n",
    "A published work that has been completed on this topic is from a few students at Georgia Institute of Technology, where they argued that GDP per capita is the main determinant to a country’s Olympic performance. <a name=\"cite_ref-2\"></a>[<sup>1</sup>](#cite_note-2) However, after doing their research, they realized that a country’s size and healthcare expenditures per capita are the main factors that drive Olympic performance, rather than GDP per capita. To us, this is a valid argument because in the end, the better the general welfare of a country is the better their healthcare will be and athletes will have a higher chance of having better healthcare. Additionally, after analyzing some unrestricted multiple variable regression models, this group realized that the relationship between Olympic performance, country’s size, and per capita health expenditure make more sense and these were the only variables that were significant at the 5% level.\n",
    "\n",
    "After looking at this published project, we decided to consider other factors besides GDP. This project also includes the healthcare that a country receives as a factor, but we also want to see if the amount of spending and expenditures that are allocated to sports have an affect on the medals that a country receive during the Olympics. There are a lot of hidden factors that might impact athletes’ performances during this event, but the purpose of this project is to see which factors are the most significant. We also want to see if a country’s population has an affect on one’s standing in the Olympics (i.e., is it true that the larger the population size, the more likely a country is to do better?).\n",
    "\n",
    "1. <a name=\"cite_note-1\"></a> [^](#cite_ref-1) How the IOC finances a better world through sport. *International Olympic Committee*. https://olympics.com/ioc/funding \n",
    "2. <a name=\"cite_note-2\"></a> [^](#cite_ref-2) Boudreau, et.al. The Miracle on Thin Ice: How A Nation's GDP Affects its Olympic Performance. *Georgia Institute of Technology*. https://repository.gatech.edu/server/api/core/bitstreams/1aa2b537-c3de-4177-8295-3fcd3a03a965/content#:~:text=We%20estimate%20that%20GDP%20per,bronze%20medals%20a%20country%20receives. \n",
    "\n",
    "\n"
   ]
  },
  {
   "cell_type": "markdown",
   "metadata": {},
   "source": [
    "# Hypothesis\n"
   ]
  },
  {
   "cell_type": "markdown",
   "metadata": {},
   "source": [
    "The hypothesis we suppose is that more allocation of government spending/expenditure towards athletes and sports, in general, should translate to better performance and better medal placements of athletes at the Olympics, whereas population isn't as a significant contributor. Given that the resources needed to succeed in sports (training equipment, facilities) we argue that government spending is an overall better metric for athletes' performance. We also noticed that there is preliminary research that has looked at the relationship between healthcare expenditures and performance, with healthcare being a strong indicator. \n",
    "\n",
    "However, it would make sense that how much of government spending is allocated towards sports should then be a stronger indicator of Olympic performance; the resources that are necessary for an athlete to succeed obviously include access to the best healthcare, but, more importantly, their access to top of the line sports resources (better facilities, equipment, training.)"
   ]
  },
  {
   "cell_type": "markdown",
   "metadata": {},
   "source": [
    "# Data"
   ]
  },
  {
   "cell_type": "markdown",
   "metadata": {},
   "source": [
    "## Data overview\n",
    "\n",
    "For each dataset include the following information\n",
    "- Dataset #1\n",
    "  - Dataset Name: Athlete Events in Olympic History\n",
    "  - Link to the dataset: https://github.com/cstorm125/information_value/blob/master/data/120-years-of-olympic-history-athletes-and-results/athlete_events.csv\n",
    "  - Number of observations: 271117 (we will make it shorter in this project)\n",
    "  - Number of variables: 15\n",
    "\n",
    "\n",
    "This dataset gives us information such as the year that the player played in the Olympics, event, medal, and season. We can use this dataset to see what countries have more winners and after discovering this, we can perform research on factors such as GDP that might contribute to their outstanding performances during the Olympics. Since this dataset has a lot of datapoints, we will most likely use a scatterplot to compare the relationship between two variables such as country and success.\n",
    "\n",
    "- Dataset #2\n",
    "  - Dataset Name: GDP across the World\n",
    "  - Link to the dataset: https://datahub.io/core/gdp#readme\n",
    "  - Number of observations: 266\n",
    "  - Number of variables: 66\n",
    "\n",
    "This dataset offers information about various countries' GDP, tracking all the way from 1960 to 2022. We are then able to match the years of a countries' GDP and their fluctuations in accordance with the Olympic dataset versus the population dataset, and analyze if there is a relationship between performance and GDP. The variables associated with this set are: the country, and their GDP tracked across the time period 1960-2022. Again, as per both the Olympic and population datasets, we are going to have to match them all to have some semblance of consistency, so we have to pare it down to 1960 onwards for all datasets.\n",
    "\n",
    "Its sources come from the World Bank (https://data.worldbank.org/indicator/NY.GDP.MKTP.CD).\n",
    "\n",
    "\n",
    "\n",
    "- Dataset #3 \n",
    "  - Dataset Name: Population, 10,000 BCE to 2021\n",
    "  - Link to the dataset: https://ourworldindata.org/grapher/population#sources-and-processing\n",
    "  - Number of observations: 58252\n",
    "  - Number of variables: 4\n",
    "\n",
    "This dataset collects populations across the globe spanning from 10,000 BCE to 2021. The variables to glean from this dataset are: what country is it representing (Afghanistan, Zimbabwe, etc.), it's country code, the year and the population associated with that year. What would need to be done with this data, as with the other 2 datasets (along with a dataset we need to find GDP for,) is to trim it down to the years we can reliably find them having the same range. The Olympics range from 1896 to, as of 5/17/2024, the 2022 Olympics, whereas this data stretches from 10,000 BCE to 2021. \n"
   ]
  },
  {
   "cell_type": "markdown",
   "metadata": {},
   "source": [
    "## Setup"
   ]
  },
  {
   "cell_type": "code",
   "execution_count": 1,
   "metadata": {},
   "outputs": [],
   "source": [
    "# The code we will be using for our wrangling/EDA\n",
    "import pandas as pd\n",
    "import numpy as np\n",
    "import matplotlib.pyplot as plt\n",
    "import seaborn as sns\n",
    "import statsmodels.api as sm\n",
    "from statsmodels.formula.api import ols"
   ]
  },
  {
   "cell_type": "markdown",
   "metadata": {},
   "source": [
    "## Dataset: 120 Years of Olympic Data"
   ]
  },
  {
   "cell_type": "code",
   "execution_count": 2,
   "metadata": {},
   "outputs": [
    {
     "data": {
      "text/html": [
       "<div>\n",
       "<style scoped>\n",
       "    .dataframe tbody tr th:only-of-type {\n",
       "        vertical-align: middle;\n",
       "    }\n",
       "\n",
       "    .dataframe tbody tr th {\n",
       "        vertical-align: top;\n",
       "    }\n",
       "\n",
       "    .dataframe thead th {\n",
       "        text-align: right;\n",
       "    }\n",
       "</style>\n",
       "<table border=\"1\" class=\"dataframe\">\n",
       "  <thead>\n",
       "    <tr style=\"text-align: right;\">\n",
       "      <th></th>\n",
       "      <th>ID</th>\n",
       "      <th>Name</th>\n",
       "      <th>Sex</th>\n",
       "      <th>Country</th>\n",
       "      <th>Year</th>\n",
       "      <th>Sport</th>\n",
       "      <th>Medal</th>\n",
       "    </tr>\n",
       "  </thead>\n",
       "  <tbody>\n",
       "    <tr>\n",
       "      <th>40</th>\n",
       "      <td>16</td>\n",
       "      <td>Juhamatti Tapio Aaltonen</td>\n",
       "      <td>M</td>\n",
       "      <td>Finland</td>\n",
       "      <td>2014</td>\n",
       "      <td>Ice Hockey</td>\n",
       "      <td>Bronze</td>\n",
       "    </tr>\n",
       "    <tr>\n",
       "      <th>60</th>\n",
       "      <td>20</td>\n",
       "      <td>Kjetil Andr Aamodt</td>\n",
       "      <td>M</td>\n",
       "      <td>Norway</td>\n",
       "      <td>1992</td>\n",
       "      <td>Alpine Skiing</td>\n",
       "      <td>Gold</td>\n",
       "    </tr>\n",
       "    <tr>\n",
       "      <th>61</th>\n",
       "      <td>20</td>\n",
       "      <td>Kjetil Andr Aamodt</td>\n",
       "      <td>M</td>\n",
       "      <td>Norway</td>\n",
       "      <td>1992</td>\n",
       "      <td>Alpine Skiing</td>\n",
       "      <td>Bronze</td>\n",
       "    </tr>\n",
       "    <tr>\n",
       "      <th>63</th>\n",
       "      <td>20</td>\n",
       "      <td>Kjetil Andr Aamodt</td>\n",
       "      <td>M</td>\n",
       "      <td>Norway</td>\n",
       "      <td>1994</td>\n",
       "      <td>Alpine Skiing</td>\n",
       "      <td>Silver</td>\n",
       "    </tr>\n",
       "    <tr>\n",
       "      <th>64</th>\n",
       "      <td>20</td>\n",
       "      <td>Kjetil Andr Aamodt</td>\n",
       "      <td>M</td>\n",
       "      <td>Norway</td>\n",
       "      <td>1994</td>\n",
       "      <td>Alpine Skiing</td>\n",
       "      <td>Bronze</td>\n",
       "    </tr>\n",
       "    <tr>\n",
       "      <th>...</th>\n",
       "      <td>...</td>\n",
       "      <td>...</td>\n",
       "      <td>...</td>\n",
       "      <td>...</td>\n",
       "      <td>...</td>\n",
       "      <td>...</td>\n",
       "      <td>...</td>\n",
       "    </tr>\n",
       "    <tr>\n",
       "      <th>271049</th>\n",
       "      <td>135545</td>\n",
       "      <td>Henk Jan Zwolle</td>\n",
       "      <td>M</td>\n",
       "      <td>Netherlands</td>\n",
       "      <td>1996</td>\n",
       "      <td>Rowing</td>\n",
       "      <td>Gold</td>\n",
       "    </tr>\n",
       "    <tr>\n",
       "      <th>271080</th>\n",
       "      <td>135553</td>\n",
       "      <td>Galina Ivanovna Zybina (-Fyodorova)</td>\n",
       "      <td>F</td>\n",
       "      <td>Soviet Union</td>\n",
       "      <td>1964</td>\n",
       "      <td>Athletics</td>\n",
       "      <td>Bronze</td>\n",
       "    </tr>\n",
       "    <tr>\n",
       "      <th>271082</th>\n",
       "      <td>135554</td>\n",
       "      <td>Bogusaw Zych</td>\n",
       "      <td>M</td>\n",
       "      <td>Poland</td>\n",
       "      <td>1980</td>\n",
       "      <td>Fencing</td>\n",
       "      <td>Bronze</td>\n",
       "    </tr>\n",
       "    <tr>\n",
       "      <th>271102</th>\n",
       "      <td>135563</td>\n",
       "      <td>Olesya Nikolayevna Zykina</td>\n",
       "      <td>F</td>\n",
       "      <td>Russia</td>\n",
       "      <td>2000</td>\n",
       "      <td>Athletics</td>\n",
       "      <td>Bronze</td>\n",
       "    </tr>\n",
       "    <tr>\n",
       "      <th>271103</th>\n",
       "      <td>135563</td>\n",
       "      <td>Olesya Nikolayevna Zykina</td>\n",
       "      <td>F</td>\n",
       "      <td>Russia</td>\n",
       "      <td>2004</td>\n",
       "      <td>Athletics</td>\n",
       "      <td>Silver</td>\n",
       "    </tr>\n",
       "  </tbody>\n",
       "</table>\n",
       "<p>28400 rows × 7 columns</p>\n",
       "</div>"
      ],
      "text/plain": [
       "            ID                                 Name Sex       Country  Year  \\\n",
       "40          16             Juhamatti Tapio Aaltonen   M       Finland  2014   \n",
       "60          20                   Kjetil Andr Aamodt   M        Norway  1992   \n",
       "61          20                   Kjetil Andr Aamodt   M        Norway  1992   \n",
       "63          20                   Kjetil Andr Aamodt   M        Norway  1994   \n",
       "64          20                   Kjetil Andr Aamodt   M        Norway  1994   \n",
       "...        ...                                  ...  ..           ...   ...   \n",
       "271049  135545                      Henk Jan Zwolle   M   Netherlands  1996   \n",
       "271080  135553  Galina Ivanovna Zybina (-Fyodorova)   F  Soviet Union  1964   \n",
       "271082  135554                         Bogusaw Zych   M        Poland  1980   \n",
       "271102  135563            Olesya Nikolayevna Zykina   F        Russia  2000   \n",
       "271103  135563            Olesya Nikolayevna Zykina   F        Russia  2004   \n",
       "\n",
       "                Sport   Medal  \n",
       "40         Ice Hockey  Bronze  \n",
       "60      Alpine Skiing    Gold  \n",
       "61      Alpine Skiing  Bronze  \n",
       "63      Alpine Skiing  Silver  \n",
       "64      Alpine Skiing  Bronze  \n",
       "...               ...     ...  \n",
       "271049         Rowing    Gold  \n",
       "271080      Athletics  Bronze  \n",
       "271082        Fencing  Bronze  \n",
       "271102      Athletics  Bronze  \n",
       "271103      Athletics  Silver  \n",
       "\n",
       "[28400 rows x 7 columns]"
      ]
     },
     "execution_count": 2,
     "metadata": {},
     "output_type": "execute_result"
    }
   ],
   "source": [
    "Olympics_120yr = pd.read_csv(\"https://raw.githubusercontent.com/cstorm125/information_value/master/data/120-years-of-olympic-history-athletes-and-results/athlete_events.csv\")\n",
    "\n",
    "#We want to restrict data to who the athletes are, gender (different performance for men's, women's), what games, what nationality, what sport, and what medal placement\n",
    "Olympics_120yr = Olympics_120yr.drop(columns=['Age', 'Height','Weight', 'NOC', 'Season', 'City', 'Event', 'Games'])\n",
    "\n",
    "#Eventually we want to wrangle this data into data where only medal placements (gold, silver, bronze) are present\n",
    "Olympics_120yr = Olympics_120yr.dropna()\n",
    "\n",
    "#We want to drop any years before 1960, as our GDP goes far back as 1960.\n",
    "Olympics_120yr = Olympics_120yr[Olympics_120yr['Year'] >=1960]\n",
    "\n",
    "#For our own convenience, renaming it from 'Team' to 'Country' will help with the EDA.\n",
    "Olympics_120yr = Olympics_120yr.rename(columns={'Team': 'Country'})\n",
    "Olympics_120yr"
   ]
  },
  {
   "cell_type": "markdown",
   "metadata": {},
   "source": [
    "## Dataset: Tracking GDP of Countries Across Time"
   ]
  },
  {
   "cell_type": "code",
   "execution_count": 3,
   "metadata": {},
   "outputs": [
    {
     "data": {
      "text/html": [
       "<div>\n",
       "<style scoped>\n",
       "    .dataframe tbody tr th:only-of-type {\n",
       "        vertical-align: middle;\n",
       "    }\n",
       "\n",
       "    .dataframe tbody tr th {\n",
       "        vertical-align: top;\n",
       "    }\n",
       "\n",
       "    .dataframe thead th {\n",
       "        text-align: right;\n",
       "    }\n",
       "</style>\n",
       "<table border=\"1\" class=\"dataframe\">\n",
       "  <thead>\n",
       "    <tr style=\"text-align: right;\">\n",
       "      <th></th>\n",
       "      <th>Country</th>\n",
       "      <th>Year</th>\n",
       "      <th>Value</th>\n",
       "    </tr>\n",
       "  </thead>\n",
       "  <tbody>\n",
       "    <tr>\n",
       "      <th>0</th>\n",
       "      <td>Afghanistan</td>\n",
       "      <td>1960</td>\n",
       "      <td>5.377778e+08</td>\n",
       "    </tr>\n",
       "    <tr>\n",
       "      <th>1</th>\n",
       "      <td>Afghanistan</td>\n",
       "      <td>1961</td>\n",
       "      <td>5.488889e+08</td>\n",
       "    </tr>\n",
       "    <tr>\n",
       "      <th>2</th>\n",
       "      <td>Afghanistan</td>\n",
       "      <td>1962</td>\n",
       "      <td>5.466667e+08</td>\n",
       "    </tr>\n",
       "    <tr>\n",
       "      <th>3</th>\n",
       "      <td>Afghanistan</td>\n",
       "      <td>1963</td>\n",
       "      <td>7.511112e+08</td>\n",
       "    </tr>\n",
       "    <tr>\n",
       "      <th>4</th>\n",
       "      <td>Afghanistan</td>\n",
       "      <td>1964</td>\n",
       "      <td>8.000000e+08</td>\n",
       "    </tr>\n",
       "    <tr>\n",
       "      <th>...</th>\n",
       "      <td>...</td>\n",
       "      <td>...</td>\n",
       "      <td>...</td>\n",
       "    </tr>\n",
       "    <tr>\n",
       "      <th>11502</th>\n",
       "      <td>Zimbabwe</td>\n",
       "      <td>2012</td>\n",
       "      <td>1.424249e+10</td>\n",
       "    </tr>\n",
       "    <tr>\n",
       "      <th>11503</th>\n",
       "      <td>Zimbabwe</td>\n",
       "      <td>2013</td>\n",
       "      <td>1.545177e+10</td>\n",
       "    </tr>\n",
       "    <tr>\n",
       "      <th>11504</th>\n",
       "      <td>Zimbabwe</td>\n",
       "      <td>2014</td>\n",
       "      <td>1.589105e+10</td>\n",
       "    </tr>\n",
       "    <tr>\n",
       "      <th>11505</th>\n",
       "      <td>Zimbabwe</td>\n",
       "      <td>2015</td>\n",
       "      <td>1.630467e+10</td>\n",
       "    </tr>\n",
       "    <tr>\n",
       "      <th>11506</th>\n",
       "      <td>Zimbabwe</td>\n",
       "      <td>2016</td>\n",
       "      <td>1.661996e+10</td>\n",
       "    </tr>\n",
       "  </tbody>\n",
       "</table>\n",
       "<p>11507 rows × 3 columns</p>\n",
       "</div>"
      ],
      "text/plain": [
       "           Country  Year         Value\n",
       "0      Afghanistan  1960  5.377778e+08\n",
       "1      Afghanistan  1961  5.488889e+08\n",
       "2      Afghanistan  1962  5.466667e+08\n",
       "3      Afghanistan  1963  7.511112e+08\n",
       "4      Afghanistan  1964  8.000000e+08\n",
       "...            ...   ...           ...\n",
       "11502     Zimbabwe  2012  1.424249e+10\n",
       "11503     Zimbabwe  2013  1.545177e+10\n",
       "11504     Zimbabwe  2014  1.589105e+10\n",
       "11505     Zimbabwe  2015  1.630467e+10\n",
       "11506     Zimbabwe  2016  1.661996e+10\n",
       "\n",
       "[11507 rows x 3 columns]"
      ]
     },
     "execution_count": 3,
     "metadata": {},
     "output_type": "execute_result"
    }
   ],
   "source": [
    "## YOUR CODE TO LOAD/CLEAN/TIDY/WRANGLE THE DATA GOES HERE\n",
    "## FEEL FREE TO ADD MULTIPLE CELLS PER SECTION \n",
    "GDPdata = pd.read_csv(\"GDP.csv\")\n",
    "\n",
    "#The original dataset had country codes (AFG, USA, UK) which is not relevant for our purposes.\n",
    "GDPdata= GDPdata.drop(columns=['Country Code'])\n",
    "\n",
    "#Again, for our own convenience, renaming it all to 'Country' will help with the EDA\n",
    "GDPdata = GDPdata.rename(columns={'Country Name': 'Country'})\n",
    "\n",
    "# Alternative GDP data\n",
    "GDPdata2 = pd.read_csv(\"GDP.csv\")\n",
    "GDPdata2 = GDPdata2.rename(columns={'Country Name': 'Country', 'Value': 'GDP'})\n",
    "GDPdata2 = GDPdata2[['Country', 'Year', 'GDP']]  # Retain relevant columns\n",
    "\n",
    "GDPdata"
   ]
  },
  {
   "cell_type": "markdown",
   "metadata": {},
   "source": [
    "## Dataset: Populations Across the Globe OverTime"
   ]
  },
  {
   "cell_type": "code",
   "execution_count": 4,
   "metadata": {},
   "outputs": [
    {
     "data": {
      "text/html": [
       "<div>\n",
       "<style scoped>\n",
       "    .dataframe tbody tr th:only-of-type {\n",
       "        vertical-align: middle;\n",
       "    }\n",
       "\n",
       "    .dataframe tbody tr th {\n",
       "        vertical-align: top;\n",
       "    }\n",
       "\n",
       "    .dataframe thead th {\n",
       "        text-align: right;\n",
       "    }\n",
       "</style>\n",
       "<table border=\"1\" class=\"dataframe\">\n",
       "  <thead>\n",
       "    <tr style=\"text-align: right;\">\n",
       "      <th></th>\n",
       "      <th>Country</th>\n",
       "      <th>Year</th>\n",
       "      <th>Population</th>\n",
       "    </tr>\n",
       "  </thead>\n",
       "  <tbody>\n",
       "    <tr>\n",
       "      <th>197</th>\n",
       "      <td>Afghanistan</td>\n",
       "      <td>1960</td>\n",
       "      <td>8622473</td>\n",
       "    </tr>\n",
       "    <tr>\n",
       "      <th>198</th>\n",
       "      <td>Afghanistan</td>\n",
       "      <td>1961</td>\n",
       "      <td>8790140</td>\n",
       "    </tr>\n",
       "    <tr>\n",
       "      <th>199</th>\n",
       "      <td>Afghanistan</td>\n",
       "      <td>1962</td>\n",
       "      <td>8969055</td>\n",
       "    </tr>\n",
       "    <tr>\n",
       "      <th>200</th>\n",
       "      <td>Afghanistan</td>\n",
       "      <td>1963</td>\n",
       "      <td>9157463</td>\n",
       "    </tr>\n",
       "    <tr>\n",
       "      <th>201</th>\n",
       "      <td>Afghanistan</td>\n",
       "      <td>1964</td>\n",
       "      <td>9355510</td>\n",
       "    </tr>\n",
       "    <tr>\n",
       "      <th>...</th>\n",
       "      <td>...</td>\n",
       "      <td>...</td>\n",
       "      <td>...</td>\n",
       "    </tr>\n",
       "    <tr>\n",
       "      <th>58247</th>\n",
       "      <td>Zimbabwe</td>\n",
       "      <td>2017</td>\n",
       "      <td>14751101</td>\n",
       "    </tr>\n",
       "    <tr>\n",
       "      <th>58248</th>\n",
       "      <td>Zimbabwe</td>\n",
       "      <td>2018</td>\n",
       "      <td>15052191</td>\n",
       "    </tr>\n",
       "    <tr>\n",
       "      <th>58249</th>\n",
       "      <td>Zimbabwe</td>\n",
       "      <td>2019</td>\n",
       "      <td>15354606</td>\n",
       "    </tr>\n",
       "    <tr>\n",
       "      <th>58250</th>\n",
       "      <td>Zimbabwe</td>\n",
       "      <td>2020</td>\n",
       "      <td>15669663</td>\n",
       "    </tr>\n",
       "    <tr>\n",
       "      <th>58251</th>\n",
       "      <td>Zimbabwe</td>\n",
       "      <td>2021</td>\n",
       "      <td>15993525</td>\n",
       "    </tr>\n",
       "  </tbody>\n",
       "</table>\n",
       "<p>16054 rows × 3 columns</p>\n",
       "</div>"
      ],
      "text/plain": [
       "           Country  Year  Population\n",
       "197    Afghanistan  1960     8622473\n",
       "198    Afghanistan  1961     8790140\n",
       "199    Afghanistan  1962     8969055\n",
       "200    Afghanistan  1963     9157463\n",
       "201    Afghanistan  1964     9355510\n",
       "...            ...   ...         ...\n",
       "58247     Zimbabwe  2017    14751101\n",
       "58248     Zimbabwe  2018    15052191\n",
       "58249     Zimbabwe  2019    15354606\n",
       "58250     Zimbabwe  2020    15669663\n",
       "58251     Zimbabwe  2021    15993525\n",
       "\n",
       "[16054 rows x 3 columns]"
      ]
     },
     "execution_count": 4,
     "metadata": {},
     "output_type": "execute_result"
    }
   ],
   "source": [
    "Population_Set = pd.read_csv('population.csv')\n",
    "#since we have 1896 as the start of the Olympics, we can trim it down it 1960 onwards. We only need the entity (country name), so the code (AFG for Afghanistan) is redundant.\n",
    "Population_Set = Population_Set[Population_Set['Year'] >=1960]\n",
    "\n",
    "#This set uses country code (AFG, NOR, FIN), but this is not relevant for our purposes.\n",
    "Population_Set = Population_Set.drop(columns=['Code'])\n",
    "\n",
    "#For our convenience, renaming it 'Country' for all sets makes it easier to merge and do EDA.\n",
    "Population_Set = Population_Set.rename(columns={'Entity': 'Country', 'Population (historical estimates)': 'Population'})\n",
    "Population_Set"
   ]
  },
  {
   "cell_type": "markdown",
   "metadata": {},
   "source": [
    "## Dataset: Categorize Countries into groups based on GDP and Population"
   ]
  },
  {
   "cell_type": "code",
   "execution_count": 5,
   "metadata": {},
   "outputs": [
    {
     "data": {
      "text/html": [
       "<div>\n",
       "<style scoped>\n",
       "    .dataframe tbody tr th:only-of-type {\n",
       "        vertical-align: middle;\n",
       "    }\n",
       "\n",
       "    .dataframe tbody tr th {\n",
       "        vertical-align: top;\n",
       "    }\n",
       "\n",
       "    .dataframe thead th {\n",
       "        text-align: right;\n",
       "    }\n",
       "</style>\n",
       "<table border=\"1\" class=\"dataframe\">\n",
       "  <thead>\n",
       "    <tr style=\"text-align: right;\">\n",
       "      <th></th>\n",
       "      <th>Country</th>\n",
       "      <th>Year</th>\n",
       "      <th>Medal</th>\n",
       "      <th>GDP</th>\n",
       "      <th>Population</th>\n",
       "      <th>GDP_Category</th>\n",
       "      <th>Population_Category</th>\n",
       "    </tr>\n",
       "  </thead>\n",
       "  <tbody>\n",
       "    <tr>\n",
       "      <th>0</th>\n",
       "      <td>Afghanistan</td>\n",
       "      <td>2008</td>\n",
       "      <td>1</td>\n",
       "      <td>1.019053e+10</td>\n",
       "      <td>26427204.0</td>\n",
       "      <td>Low</td>\n",
       "      <td>Medium</td>\n",
       "    </tr>\n",
       "    <tr>\n",
       "      <th>1</th>\n",
       "      <td>Afghanistan</td>\n",
       "      <td>2012</td>\n",
       "      <td>1</td>\n",
       "      <td>2.053654e+10</td>\n",
       "      <td>30466484.0</td>\n",
       "      <td>Low</td>\n",
       "      <td>Medium</td>\n",
       "    </tr>\n",
       "    <tr>\n",
       "      <th>2</th>\n",
       "      <td>Algeria</td>\n",
       "      <td>1984</td>\n",
       "      <td>2</td>\n",
       "      <td>5.369828e+10</td>\n",
       "      <td>21393532.0</td>\n",
       "      <td>Medium</td>\n",
       "      <td>Medium</td>\n",
       "    </tr>\n",
       "    <tr>\n",
       "      <th>3</th>\n",
       "      <td>Algeria</td>\n",
       "      <td>1992</td>\n",
       "      <td>2</td>\n",
       "      <td>4.800330e+10</td>\n",
       "      <td>26748302.0</td>\n",
       "      <td>Medium</td>\n",
       "      <td>Medium</td>\n",
       "    </tr>\n",
       "    <tr>\n",
       "      <th>4</th>\n",
       "      <td>Algeria</td>\n",
       "      <td>1996</td>\n",
       "      <td>3</td>\n",
       "      <td>4.694150e+10</td>\n",
       "      <td>28984640.0</td>\n",
       "      <td>Medium</td>\n",
       "      <td>Medium</td>\n",
       "    </tr>\n",
       "    <tr>\n",
       "      <th>...</th>\n",
       "      <td>...</td>\n",
       "      <td>...</td>\n",
       "      <td>...</td>\n",
       "      <td>...</td>\n",
       "      <td>...</td>\n",
       "      <td>...</td>\n",
       "      <td>...</td>\n",
       "    </tr>\n",
       "    <tr>\n",
       "      <th>1317</th>\n",
       "      <td>Zambia</td>\n",
       "      <td>1984</td>\n",
       "      <td>1</td>\n",
       "      <td>2.739444e+09</td>\n",
       "      <td>6488077.0</td>\n",
       "      <td>Low</td>\n",
       "      <td>Low</td>\n",
       "    </tr>\n",
       "    <tr>\n",
       "      <th>1318</th>\n",
       "      <td>Zambia</td>\n",
       "      <td>1996</td>\n",
       "      <td>1</td>\n",
       "      <td>3.597221e+09</td>\n",
       "      <td>8902025.0</td>\n",
       "      <td>Low</td>\n",
       "      <td>Medium</td>\n",
       "    </tr>\n",
       "    <tr>\n",
       "      <th>1319</th>\n",
       "      <td>Zimbabwe</td>\n",
       "      <td>1980</td>\n",
       "      <td>15</td>\n",
       "      <td>6.678868e+09</td>\n",
       "      <td>7049931.0</td>\n",
       "      <td>Low</td>\n",
       "      <td>Low</td>\n",
       "    </tr>\n",
       "    <tr>\n",
       "      <th>1320</th>\n",
       "      <td>Zimbabwe</td>\n",
       "      <td>2004</td>\n",
       "      <td>3</td>\n",
       "      <td>5.805598e+09</td>\n",
       "      <td>12160885.0</td>\n",
       "      <td>Low</td>\n",
       "      <td>Medium</td>\n",
       "    </tr>\n",
       "    <tr>\n",
       "      <th>1321</th>\n",
       "      <td>Zimbabwe</td>\n",
       "      <td>2008</td>\n",
       "      <td>4</td>\n",
       "      <td>4.415703e+09</td>\n",
       "      <td>12550353.0</td>\n",
       "      <td>Low</td>\n",
       "      <td>Medium</td>\n",
       "    </tr>\n",
       "  </tbody>\n",
       "</table>\n",
       "<p>1322 rows × 7 columns</p>\n",
       "</div>"
      ],
      "text/plain": [
       "          Country  Year  Medal           GDP  Population GDP_Category  \\\n",
       "0     Afghanistan  2008      1  1.019053e+10  26427204.0          Low   \n",
       "1     Afghanistan  2012      1  2.053654e+10  30466484.0          Low   \n",
       "2         Algeria  1984      2  5.369828e+10  21393532.0       Medium   \n",
       "3         Algeria  1992      2  4.800330e+10  26748302.0       Medium   \n",
       "4         Algeria  1996      3  4.694150e+10  28984640.0       Medium   \n",
       "...           ...   ...    ...           ...         ...          ...   \n",
       "1317       Zambia  1984      1  2.739444e+09   6488077.0          Low   \n",
       "1318       Zambia  1996      1  3.597221e+09   8902025.0          Low   \n",
       "1319     Zimbabwe  1980     15  6.678868e+09   7049931.0          Low   \n",
       "1320     Zimbabwe  2004      3  5.805598e+09  12160885.0          Low   \n",
       "1321     Zimbabwe  2008      4  4.415703e+09  12550353.0          Low   \n",
       "\n",
       "     Population_Category  \n",
       "0                 Medium  \n",
       "1                 Medium  \n",
       "2                 Medium  \n",
       "3                 Medium  \n",
       "4                 Medium  \n",
       "...                  ...  \n",
       "1317                 Low  \n",
       "1318              Medium  \n",
       "1319                 Low  \n",
       "1320              Medium  \n",
       "1321              Medium  \n",
       "\n",
       "[1322 rows x 7 columns]"
      ]
     },
     "execution_count": 5,
     "metadata": {},
     "output_type": "execute_result"
    }
   ],
   "source": [
    "# Load datasets\n",
    "olympics = pd.read_csv(\"athlete_events.csv\")\n",
    "gdp_data = pd.read_csv(\"GDP.csv\")\n",
    "population_data = pd.read_csv(\"population.csv\")\n",
    "\n",
    "# Clean and prepare datasets\n",
    "olympics = olympics[olympics['Year'] >= 1960]\n",
    "olympics = olympics.dropna(subset=['Medal'])  # Keep only rows where medals were won\n",
    "olympics['Medal'] = 1  # Assign a countable value for medals\n",
    "olympics.rename(columns={'Team': 'Country'}, inplace=True)  # Rename 'Team' to 'Country'\n",
    "\n",
    "# Correctly rename columns before merging\n",
    "gdp_data.rename(columns={'Country Name': 'Country', 'Value': 'GDP'}, inplace=True)\n",
    "population_data.rename(columns={'Entity': 'Country', 'Population (historical estimates)': 'Population'}, inplace=True)\n",
    "\n",
    "# Merge datasets on 'Country' and 'Year'\n",
    "combined_data = pd.merge(olympics, gdp_data[['Country', 'Year', 'GDP']], on=['Country', 'Year'], how='left')\n",
    "combined_data = pd.merge(combined_data, population_data[['Country', 'Year', 'Population']], on=['Country', 'Year'], how='left')\n",
    "\n",
    "# Summarize medals by country and year\n",
    "combined_data = combined_data.groupby(['Country', 'Year']).agg({\n",
    "    'Medal': 'sum',\n",
    "    'GDP': 'mean',\n",
    "    'Population': 'mean'\n",
    "}).reset_index()\n",
    "\n",
    "# Define categories based on quantiles\n",
    "combined_data['GDP_Category'] = pd.qcut(combined_data['GDP'], 3, labels=['Low', 'Medium', 'High'])\n",
    "combined_data['Population_Category'] = pd.qcut(combined_data['Population'], 3, labels=['Low', 'Medium', 'High'])\n",
    "combined_data"
   ]
  },
  {
   "cell_type": "markdown",
   "metadata": {},
   "source": [
    "# Results/Exploratory Data Analysis"
   ]
  },
  {
   "cell_type": "markdown",
   "metadata": {},
   "source": [
    "### Section 1: Looking at the Relationship Between Olympic Performance and Population"
   ]
  },
  {
   "cell_type": "markdown",
   "metadata": {},
   "source": [
    "First, we want to have a clean, merged table on two different analyses: first, is population. That year's population is the same year they competed at the Olympics."
   ]
  },
  {
   "cell_type": "code",
   "execution_count": 6,
   "metadata": {},
   "outputs": [
    {
     "data": {
      "text/html": [
       "<div>\n",
       "<style scoped>\n",
       "    .dataframe tbody tr th:only-of-type {\n",
       "        vertical-align: middle;\n",
       "    }\n",
       "\n",
       "    .dataframe tbody tr th {\n",
       "        vertical-align: top;\n",
       "    }\n",
       "\n",
       "    .dataframe thead th {\n",
       "        text-align: right;\n",
       "    }\n",
       "</style>\n",
       "<table border=\"1\" class=\"dataframe\">\n",
       "  <thead>\n",
       "    <tr style=\"text-align: right;\">\n",
       "      <th></th>\n",
       "      <th>ID</th>\n",
       "      <th>Name</th>\n",
       "      <th>Sex</th>\n",
       "      <th>Country</th>\n",
       "      <th>Year</th>\n",
       "      <th>Sport</th>\n",
       "      <th>Medal</th>\n",
       "      <th>Population</th>\n",
       "    </tr>\n",
       "  </thead>\n",
       "  <tbody>\n",
       "    <tr>\n",
       "      <th>0</th>\n",
       "      <td>16</td>\n",
       "      <td>Juhamatti Tapio Aaltonen</td>\n",
       "      <td>M</td>\n",
       "      <td>Finland</td>\n",
       "      <td>2014</td>\n",
       "      <td>Ice Hockey</td>\n",
       "      <td>Bronze</td>\n",
       "      <td>5461436.0</td>\n",
       "    </tr>\n",
       "    <tr>\n",
       "      <th>1</th>\n",
       "      <td>20</td>\n",
       "      <td>Kjetil Andr Aamodt</td>\n",
       "      <td>M</td>\n",
       "      <td>Norway</td>\n",
       "      <td>1992</td>\n",
       "      <td>Alpine Skiing</td>\n",
       "      <td>Gold</td>\n",
       "      <td>4286560.0</td>\n",
       "    </tr>\n",
       "    <tr>\n",
       "      <th>2</th>\n",
       "      <td>20</td>\n",
       "      <td>Kjetil Andr Aamodt</td>\n",
       "      <td>M</td>\n",
       "      <td>Norway</td>\n",
       "      <td>1992</td>\n",
       "      <td>Alpine Skiing</td>\n",
       "      <td>Bronze</td>\n",
       "      <td>4286560.0</td>\n",
       "    </tr>\n",
       "    <tr>\n",
       "      <th>3</th>\n",
       "      <td>20</td>\n",
       "      <td>Kjetil Andr Aamodt</td>\n",
       "      <td>M</td>\n",
       "      <td>Norway</td>\n",
       "      <td>1994</td>\n",
       "      <td>Alpine Skiing</td>\n",
       "      <td>Silver</td>\n",
       "      <td>4336745.0</td>\n",
       "    </tr>\n",
       "    <tr>\n",
       "      <th>4</th>\n",
       "      <td>20</td>\n",
       "      <td>Kjetil Andr Aamodt</td>\n",
       "      <td>M</td>\n",
       "      <td>Norway</td>\n",
       "      <td>1994</td>\n",
       "      <td>Alpine Skiing</td>\n",
       "      <td>Bronze</td>\n",
       "      <td>4336745.0</td>\n",
       "    </tr>\n",
       "    <tr>\n",
       "      <th>...</th>\n",
       "      <td>...</td>\n",
       "      <td>...</td>\n",
       "      <td>...</td>\n",
       "      <td>...</td>\n",
       "      <td>...</td>\n",
       "      <td>...</td>\n",
       "      <td>...</td>\n",
       "      <td>...</td>\n",
       "    </tr>\n",
       "    <tr>\n",
       "      <th>28394</th>\n",
       "      <td>135545</td>\n",
       "      <td>Henk Jan Zwolle</td>\n",
       "      <td>M</td>\n",
       "      <td>Netherlands</td>\n",
       "      <td>1992</td>\n",
       "      <td>Rowing</td>\n",
       "      <td>Bronze</td>\n",
       "      <td>15150688.0</td>\n",
       "    </tr>\n",
       "    <tr>\n",
       "      <th>28395</th>\n",
       "      <td>135545</td>\n",
       "      <td>Henk Jan Zwolle</td>\n",
       "      <td>M</td>\n",
       "      <td>Netherlands</td>\n",
       "      <td>1996</td>\n",
       "      <td>Rowing</td>\n",
       "      <td>Gold</td>\n",
       "      <td>15538617.0</td>\n",
       "    </tr>\n",
       "    <tr>\n",
       "      <th>28397</th>\n",
       "      <td>135554</td>\n",
       "      <td>Bogusaw Zych</td>\n",
       "      <td>M</td>\n",
       "      <td>Poland</td>\n",
       "      <td>1980</td>\n",
       "      <td>Fencing</td>\n",
       "      <td>Bronze</td>\n",
       "      <td>35521432.0</td>\n",
       "    </tr>\n",
       "    <tr>\n",
       "      <th>28398</th>\n",
       "      <td>135563</td>\n",
       "      <td>Olesya Nikolayevna Zykina</td>\n",
       "      <td>F</td>\n",
       "      <td>Russia</td>\n",
       "      <td>2000</td>\n",
       "      <td>Athletics</td>\n",
       "      <td>Bronze</td>\n",
       "      <td>146844848.0</td>\n",
       "    </tr>\n",
       "    <tr>\n",
       "      <th>28399</th>\n",
       "      <td>135563</td>\n",
       "      <td>Olesya Nikolayevna Zykina</td>\n",
       "      <td>F</td>\n",
       "      <td>Russia</td>\n",
       "      <td>2004</td>\n",
       "      <td>Athletics</td>\n",
       "      <td>Silver</td>\n",
       "      <td>144353648.0</td>\n",
       "    </tr>\n",
       "  </tbody>\n",
       "</table>\n",
       "<p>22573 rows × 8 columns</p>\n",
       "</div>"
      ],
      "text/plain": [
       "           ID                       Name Sex      Country  Year  \\\n",
       "0          16   Juhamatti Tapio Aaltonen   M      Finland  2014   \n",
       "1          20         Kjetil Andr Aamodt   M       Norway  1992   \n",
       "2          20         Kjetil Andr Aamodt   M       Norway  1992   \n",
       "3          20         Kjetil Andr Aamodt   M       Norway  1994   \n",
       "4          20         Kjetil Andr Aamodt   M       Norway  1994   \n",
       "...       ...                        ...  ..          ...   ...   \n",
       "28394  135545            Henk Jan Zwolle   M  Netherlands  1992   \n",
       "28395  135545            Henk Jan Zwolle   M  Netherlands  1996   \n",
       "28397  135554               Bogusaw Zych   M       Poland  1980   \n",
       "28398  135563  Olesya Nikolayevna Zykina   F       Russia  2000   \n",
       "28399  135563  Olesya Nikolayevna Zykina   F       Russia  2004   \n",
       "\n",
       "               Sport   Medal   Population  \n",
       "0         Ice Hockey  Bronze    5461436.0  \n",
       "1      Alpine Skiing    Gold    4286560.0  \n",
       "2      Alpine Skiing  Bronze    4286560.0  \n",
       "3      Alpine Skiing  Silver    4336745.0  \n",
       "4      Alpine Skiing  Bronze    4336745.0  \n",
       "...              ...     ...          ...  \n",
       "28394         Rowing  Bronze   15150688.0  \n",
       "28395         Rowing    Gold   15538617.0  \n",
       "28397        Fencing  Bronze   35521432.0  \n",
       "28398      Athletics  Bronze  146844848.0  \n",
       "28399      Athletics  Silver  144353648.0  \n",
       "\n",
       "[22573 rows x 8 columns]"
      ]
     },
     "execution_count": 6,
     "metadata": {},
     "output_type": "execute_result"
    }
   ],
   "source": [
    "#Want to have a single data with the population of a athlete's nation in the year they competed (i.e., Aaltonen competed in the 2014 Olympics, \n",
    "# need Finland's population at that time.)\n",
    "olympics_population = Olympics_120yr.merge(Population_Set, how='left')\n",
    "olympics_population.dropna()"
   ]
  },
  {
   "cell_type": "markdown",
   "metadata": {},
   "source": [
    "As we have already cleaned these two datasets before hand in the 'Dataset' section (remove country codes, age, weight, etc.,) we can now do EDA.\n",
    "Using a barplot, we can see how Gold medalists tend to come from higher population groups, and follows suit for the other two medalists in a descending fashion. The barplot below illustrates average populations of countries that receive bronze, gold, and silver medals, respectively."
   ]
  },
  {
   "cell_type": "code",
   "execution_count": 7,
   "metadata": {},
   "outputs": [
    {
     "data": {
      "text/plain": [
       "<AxesSubplot: xlabel='Population'>"
      ]
     },
     "execution_count": 7,
     "metadata": {},
     "output_type": "execute_result"
    },
    {
     "data": {
      "image/png": "[encoded data removed]",
      "text/plain": [
       "<Figure size 432x288 with 1 Axes>"
      ]
     },
     "metadata": {
      "needs_background": "light"
     },
     "output_type": "display_data"
    }
   ],
   "source": [
    "sns.barplot(data=olympics_population, x='Population', hue='Medal')"
   ]
  },
  {
   "cell_type": "markdown",
   "metadata": {},
   "source": [
    "Of course, we also want to look at the correlation between population and the medalists themselves. The table below illustrates the amount of bronze, silver, and gold medals that each countries have received in alphabetical order (starting from Afghanistan and ending with Zimbabwe).\n"
   ]
  },
  {
   "cell_type": "code",
   "execution_count": 8,
   "metadata": {},
   "outputs": [
    {
     "data": {
      "text/html": [
       "<div>\n",
       "<style scoped>\n",
       "    .dataframe tbody tr th:only-of-type {\n",
       "        vertical-align: middle;\n",
       "    }\n",
       "\n",
       "    .dataframe tbody tr th {\n",
       "        vertical-align: top;\n",
       "    }\n",
       "\n",
       "    .dataframe thead th {\n",
       "        text-align: right;\n",
       "    }\n",
       "</style>\n",
       "<table border=\"1\" class=\"dataframe\">\n",
       "  <thead>\n",
       "    <tr style=\"text-align: right;\">\n",
       "      <th></th>\n",
       "      <th></th>\n",
       "      <th>Medal</th>\n",
       "    </tr>\n",
       "    <tr>\n",
       "      <th>Country</th>\n",
       "      <th>Medal</th>\n",
       "      <th></th>\n",
       "    </tr>\n",
       "  </thead>\n",
       "  <tbody>\n",
       "    <tr>\n",
       "      <th>Afghanistan</th>\n",
       "      <th>Bronze</th>\n",
       "      <td>2</td>\n",
       "    </tr>\n",
       "    <tr>\n",
       "      <th rowspan=\"3\" valign=\"top\">Algeria</th>\n",
       "      <th>Bronze</th>\n",
       "      <td>8</td>\n",
       "    </tr>\n",
       "    <tr>\n",
       "      <th>Gold</th>\n",
       "      <td>5</td>\n",
       "    </tr>\n",
       "    <tr>\n",
       "      <th>Silver</th>\n",
       "      <td>4</td>\n",
       "    </tr>\n",
       "    <tr>\n",
       "      <th>Aphrodite</th>\n",
       "      <th>Bronze</th>\n",
       "      <td>3</td>\n",
       "    </tr>\n",
       "    <tr>\n",
       "      <th>...</th>\n",
       "      <th>...</th>\n",
       "      <td>...</td>\n",
       "    </tr>\n",
       "    <tr>\n",
       "      <th rowspan=\"2\" valign=\"top\">Zambia</th>\n",
       "      <th>Bronze</th>\n",
       "      <td>1</td>\n",
       "    </tr>\n",
       "    <tr>\n",
       "      <th>Silver</th>\n",
       "      <td>1</td>\n",
       "    </tr>\n",
       "    <tr>\n",
       "      <th rowspan=\"3\" valign=\"top\">Zimbabwe</th>\n",
       "      <th>Bronze</th>\n",
       "      <td>1</td>\n",
       "    </tr>\n",
       "    <tr>\n",
       "      <th>Gold</th>\n",
       "      <td>17</td>\n",
       "    </tr>\n",
       "    <tr>\n",
       "      <th>Silver</th>\n",
       "      <td>4</td>\n",
       "    </tr>\n",
       "  </tbody>\n",
       "</table>\n",
       "<p>484 rows × 1 columns</p>\n",
       "</div>"
      ],
      "text/plain": [
       "                    Medal\n",
       "Country     Medal        \n",
       "Afghanistan Bronze      2\n",
       "Algeria     Bronze      8\n",
       "            Gold        5\n",
       "            Silver      4\n",
       "Aphrodite   Bronze      3\n",
       "...                   ...\n",
       "Zambia      Bronze      1\n",
       "            Silver      1\n",
       "Zimbabwe    Bronze      1\n",
       "            Gold       17\n",
       "            Silver      4\n",
       "\n",
       "[484 rows x 1 columns]"
      ]
     },
     "execution_count": 8,
     "metadata": {},
     "output_type": "execute_result"
    }
   ],
   "source": [
    "medal_count_country = olympics_population.groupby(by=[\"Country\", \"Medal\"]).agg({'Medal':'count'})\n",
    "medal_count_country"
   ]
  },
  {
   "cell_type": "code",
   "execution_count": 9,
   "metadata": {},
   "outputs": [
    {
     "data": {
      "text/plain": [
       "<AxesSubplot: xlabel='Country'>"
      ]
     },
     "execution_count": 9,
     "metadata": {},
     "output_type": "execute_result"
    },
    {
     "data": {
      "image/png": "[encoded data removed]",
      "text/plain": [
       "<Figure size 864x576 with 1 Axes>"
      ]
     },
     "metadata": {
      "needs_background": "light"
     },
     "output_type": "display_data"
    }
   ],
   "source": [
    "total_medals_by_country = olympics_population.groupby('Country')['Medal'].count().sort_values(ascending=False)\n",
    "\n",
    "# Visualize top countries by total medal count\n",
    "plt.figure(figsize=(12, 8))\n",
    "total_medals_by_country.head(10).plot(kind='bar', color='skyblue')"
   ]
  },
  {
   "cell_type": "markdown",
   "metadata": {},
   "source": [
    "##### EDA/Observations\n",
    "* We see a tentative trend, in which gold medalists tend to come from higher population groups and bronze medalists tend to come from smaller population groups as they have the smallest populations according to the barplot. This suggests a potential association between population size and their rate of winning gold medals in the Olympics.\n",
    "\n",
    "\n",
    "* In the bar plot above, we see that countries such as the United States, Soviet Union, and Germany are large countries that get a lot of medals during the Olympics. We know that Germany and United States are currently superpowers in the world, suggesting that larger populations tend to achieve higheir medal counts at the Olympics. "
   ]
  },
  {
   "cell_type": "markdown",
   "metadata": {},
   "source": [
    "### Section 2: Looking at the Relationship Between Olympic Performance and Their Nation's GDP\n"
   ]
  },
  {
   "cell_type": "markdown",
   "metadata": {},
   "source": [
    "Second, the EDA we want to do in this section is another check on GDP. We have to merge it with our previous Olympic dataset and GDP dataset, having the year they competed it correlated with their country's GDP in a given year. In the table below, we see many players that participated in the Olympics int he twentieth and twenty-first century, and the current GDP and winning medal in that year."
   ]
  },
  {
   "cell_type": "code",
   "execution_count": 10,
   "metadata": {},
   "outputs": [
    {
     "data": {
      "text/html": [
       "<div>\n",
       "<style scoped>\n",
       "    .dataframe tbody tr th:only-of-type {\n",
       "        vertical-align: middle;\n",
       "    }\n",
       "\n",
       "    .dataframe tbody tr th {\n",
       "        vertical-align: top;\n",
       "    }\n",
       "\n",
       "    .dataframe thead th {\n",
       "        text-align: right;\n",
       "    }\n",
       "</style>\n",
       "<table border=\"1\" class=\"dataframe\">\n",
       "  <thead>\n",
       "    <tr style=\"text-align: right;\">\n",
       "      <th></th>\n",
       "      <th>ID</th>\n",
       "      <th>Name</th>\n",
       "      <th>Sex</th>\n",
       "      <th>Country</th>\n",
       "      <th>Year</th>\n",
       "      <th>Sport</th>\n",
       "      <th>Medal</th>\n",
       "      <th>Value</th>\n",
       "    </tr>\n",
       "  </thead>\n",
       "  <tbody>\n",
       "    <tr>\n",
       "      <th>0</th>\n",
       "      <td>16</td>\n",
       "      <td>Juhamatti Tapio Aaltonen</td>\n",
       "      <td>M</td>\n",
       "      <td>Finland</td>\n",
       "      <td>2014</td>\n",
       "      <td>Ice Hockey</td>\n",
       "      <td>Bronze</td>\n",
       "      <td>2.726093e+11</td>\n",
       "    </tr>\n",
       "    <tr>\n",
       "      <th>1</th>\n",
       "      <td>20</td>\n",
       "      <td>Kjetil Andr Aamodt</td>\n",
       "      <td>M</td>\n",
       "      <td>Norway</td>\n",
       "      <td>1992</td>\n",
       "      <td>Alpine Skiing</td>\n",
       "      <td>Gold</td>\n",
       "      <td>1.308380e+11</td>\n",
       "    </tr>\n",
       "    <tr>\n",
       "      <th>2</th>\n",
       "      <td>20</td>\n",
       "      <td>Kjetil Andr Aamodt</td>\n",
       "      <td>M</td>\n",
       "      <td>Norway</td>\n",
       "      <td>1992</td>\n",
       "      <td>Alpine Skiing</td>\n",
       "      <td>Bronze</td>\n",
       "      <td>1.308380e+11</td>\n",
       "    </tr>\n",
       "    <tr>\n",
       "      <th>3</th>\n",
       "      <td>20</td>\n",
       "      <td>Kjetil Andr Aamodt</td>\n",
       "      <td>M</td>\n",
       "      <td>Norway</td>\n",
       "      <td>1994</td>\n",
       "      <td>Alpine Skiing</td>\n",
       "      <td>Silver</td>\n",
       "      <td>1.271315e+11</td>\n",
       "    </tr>\n",
       "    <tr>\n",
       "      <th>4</th>\n",
       "      <td>20</td>\n",
       "      <td>Kjetil Andr Aamodt</td>\n",
       "      <td>M</td>\n",
       "      <td>Norway</td>\n",
       "      <td>1994</td>\n",
       "      <td>Alpine Skiing</td>\n",
       "      <td>Bronze</td>\n",
       "      <td>1.271315e+11</td>\n",
       "    </tr>\n",
       "    <tr>\n",
       "      <th>...</th>\n",
       "      <td>...</td>\n",
       "      <td>...</td>\n",
       "      <td>...</td>\n",
       "      <td>...</td>\n",
       "      <td>...</td>\n",
       "      <td>...</td>\n",
       "      <td>...</td>\n",
       "      <td>...</td>\n",
       "    </tr>\n",
       "    <tr>\n",
       "      <th>28390</th>\n",
       "      <td>135523</td>\n",
       "      <td>Ronald Ferdinand \"Ron\" Zwerver</td>\n",
       "      <td>M</td>\n",
       "      <td>Netherlands</td>\n",
       "      <td>1996</td>\n",
       "      <td>Volleyball</td>\n",
       "      <td>Gold</td>\n",
       "      <td>4.457046e+11</td>\n",
       "    </tr>\n",
       "    <tr>\n",
       "      <th>28391</th>\n",
       "      <td>135525</td>\n",
       "      <td>Martin Zwicker</td>\n",
       "      <td>M</td>\n",
       "      <td>Germany</td>\n",
       "      <td>2016</td>\n",
       "      <td>Hockey</td>\n",
       "      <td>Bronze</td>\n",
       "      <td>3.477796e+12</td>\n",
       "    </tr>\n",
       "    <tr>\n",
       "      <th>28392</th>\n",
       "      <td>135535</td>\n",
       "      <td>Claudia Antoinette Zwiers</td>\n",
       "      <td>F</td>\n",
       "      <td>Netherlands</td>\n",
       "      <td>1996</td>\n",
       "      <td>Judo</td>\n",
       "      <td>Bronze</td>\n",
       "      <td>4.457046e+11</td>\n",
       "    </tr>\n",
       "    <tr>\n",
       "      <th>28394</th>\n",
       "      <td>135545</td>\n",
       "      <td>Henk Jan Zwolle</td>\n",
       "      <td>M</td>\n",
       "      <td>Netherlands</td>\n",
       "      <td>1992</td>\n",
       "      <td>Rowing</td>\n",
       "      <td>Bronze</td>\n",
       "      <td>3.583304e+11</td>\n",
       "    </tr>\n",
       "    <tr>\n",
       "      <th>28395</th>\n",
       "      <td>135545</td>\n",
       "      <td>Henk Jan Zwolle</td>\n",
       "      <td>M</td>\n",
       "      <td>Netherlands</td>\n",
       "      <td>1996</td>\n",
       "      <td>Rowing</td>\n",
       "      <td>Gold</td>\n",
       "      <td>4.457046e+11</td>\n",
       "    </tr>\n",
       "  </tbody>\n",
       "</table>\n",
       "<p>18533 rows × 8 columns</p>\n",
       "</div>"
      ],
      "text/plain": [
       "           ID                            Name Sex      Country  Year  \\\n",
       "0          16        Juhamatti Tapio Aaltonen   M      Finland  2014   \n",
       "1          20              Kjetil Andr Aamodt   M       Norway  1992   \n",
       "2          20              Kjetil Andr Aamodt   M       Norway  1992   \n",
       "3          20              Kjetil Andr Aamodt   M       Norway  1994   \n",
       "4          20              Kjetil Andr Aamodt   M       Norway  1994   \n",
       "...       ...                             ...  ..          ...   ...   \n",
       "28390  135523  Ronald Ferdinand \"Ron\" Zwerver   M  Netherlands  1996   \n",
       "28391  135525                  Martin Zwicker   M      Germany  2016   \n",
       "28392  135535       Claudia Antoinette Zwiers   F  Netherlands  1996   \n",
       "28394  135545                 Henk Jan Zwolle   M  Netherlands  1992   \n",
       "28395  135545                 Henk Jan Zwolle   M  Netherlands  1996   \n",
       "\n",
       "               Sport   Medal         Value  \n",
       "0         Ice Hockey  Bronze  2.726093e+11  \n",
       "1      Alpine Skiing    Gold  1.308380e+11  \n",
       "2      Alpine Skiing  Bronze  1.308380e+11  \n",
       "3      Alpine Skiing  Silver  1.271315e+11  \n",
       "4      Alpine Skiing  Bronze  1.271315e+11  \n",
       "...              ...     ...           ...  \n",
       "28390     Volleyball    Gold  4.457046e+11  \n",
       "28391         Hockey  Bronze  3.477796e+12  \n",
       "28392           Judo  Bronze  4.457046e+11  \n",
       "28394         Rowing  Bronze  3.583304e+11  \n",
       "28395         Rowing    Gold  4.457046e+11  \n",
       "\n",
       "[18533 rows x 8 columns]"
      ]
     },
     "execution_count": 10,
     "metadata": {},
     "output_type": "execute_result"
    }
   ],
   "source": [
    "#Want to merge a single dataset, but this time for GDP and the Olympic dataset. Again, the GDP of that athlete's country in a given year.\n",
    "olympics_gdp = Olympics_120yr.merge(GDPdata, how='left')\n",
    "olympics_gdp = olympics_gdp.dropna()\n",
    "olympics_gdp"
   ]
  },
  {
   "cell_type": "code",
   "execution_count": 11,
   "metadata": {},
   "outputs": [
    {
     "name": "stdout",
     "output_type": "stream",
     "text": [
      "Descriptive Statistics for GDP:\n",
      "count    1.853300e+04\n",
      "mean     2.474121e+12\n",
      "std      4.183842e+12\n",
      "min      2.195836e+08\n",
      "25%      1.298471e+11\n",
      "50%      6.133298e+11\n",
      "75%      2.465454e+12\n",
      "max      1.862448e+13\n",
      "Name: Value, dtype: float64\n"
     ]
    }
   ],
   "source": [
    "print(\"Descriptive Statistics for GDP:\")\n",
    "print(olympics_gdp['Value'].describe())"
   ]
  },
  {
   "cell_type": "code",
   "execution_count": 12,
   "metadata": {},
   "outputs": [
    {
     "name": "stdout",
     "output_type": "stream",
     "text": [
      "Country\n",
      "Afghanistan       2\n",
      "Algeria          17\n",
      "Argentina       200\n",
      "Armenia          16\n",
      "Australia      1166\n",
      "               ... \n",
      "Uruguay           2\n",
      "Uzbekistan       34\n",
      "Vietnam           4\n",
      "Zambia            2\n",
      "Zimbabwe         22\n",
      "Name: Medal, Length: 116, dtype: int64\n"
     ]
    },
    {
     "data": {
      "text/plain": [
       "<matplotlib.collections.PathCollection at 0x7fbe9243a6a0>"
      ]
     },
     "execution_count": 12,
     "metadata": {},
     "output_type": "execute_result"
    },
    {
     "data": {
      "image/png": "[encoded data removed]",
      "text/plain": [
       "<Figure size 720x432 with 1 Axes>"
      ]
     },
     "metadata": {
      "needs_background": "light"
     },
     "output_type": "display_data"
    }
   ],
   "source": [
    "# Correlation Scatterplot\n",
    "medal_count_by_country = olympics_gdp.groupby('Country')['Medal'].count()\n",
    "print(medal_count_by_country)\n",
    "\n",
    "# Extracting GDP and removing duplicates\n",
    "gdp_by_country = olympics_gdp[['Country', 'Value']].drop_duplicates()\n",
    "merged_data = pd.merge(gdp_by_country, medal_count_by_country, on='Country', how='inner')\n",
    "\n",
    "# Plotting scatter plot\n",
    "plt.figure(figsize=(10, 6))\n",
    "plt.scatter(merged_data['Value'], merged_data['Medal'], color='blue', alpha=0.5)"
   ]
  },
  {
   "cell_type": "markdown",
   "metadata": {},
   "source": [
    "***\n",
    "\n",
    "We can also create heatmaps to visualize the correlation between different numerical variables such as GDP, population,\n",
    "and total medal count. This can help quickly identify which factors are most closely related."
   ]
  },
  {
   "cell_type": "code",
   "execution_count": 13,
   "metadata": {},
   "outputs": [
    {
     "data": {
      "image/png": "[encoded data removed]",
      "text/plain": [
       "<Figure size 720x576 with 2 Axes>"
      ]
     },
     "metadata": {
      "needs_background": "light"
     },
     "output_type": "display_data"
    }
   ],
   "source": [
    "# Merging datasets\n",
    "merged = pd.merge(Olympics_120yr, GDPdata2, on=['Country', 'Year'], how='left')\n",
    "merged = pd.merge(merged, Population_Set, on=['Country', 'Year'], how='left')\n",
    "merged = merged.dropna()\n",
    "\n",
    "# Aggregate total medals by country and year\n",
    "merged['Medal'] = merged['Medal'].apply(lambda x: 1 if pd.notnull(x) else 0)\n",
    "medal_counts = merged.groupby(['Country', 'Year']).agg({'Medal': 'sum', 'GDP': 'mean', 'Population': 'mean'}).reset_index()\n",
    "\n",
    "# Correlation matrix calculation\n",
    "correlation_matrix = medal_counts[['Medal', 'GDP', 'Population']].corr()\n",
    "\n",
    "# Heatmap Visualization\n",
    "plt.figure(figsize=(10, 8))\n",
    "sns.heatmap(correlation_matrix, annot=True, cmap='coolwarm', fmt=\".2f\")\n",
    "plt.title('Correlation between GDP, Population, and Olympic Medals')\n",
    "plt.show()"
   ]
  },
  {
   "cell_type": "markdown",
   "metadata": {},
   "source": [
    "**Medals vs. GDP (0.57):**\n",
    "The correlation between Olympic medals and GDP is 0.57, which indicates a moderate to strong positive relationship. This suggests that countries with higher GDPs generally perform better in the Olympics, potentially due to more substantial investments in sports infrastructure, training, and athlete development. This correlation is significant enough to imply that economic power can translate into sports success.\n",
    "\n",
    "**Medals vs. Population (0.22):**\n",
    "The correlation between Olympic medals and population size is 0.22, showing a weak positive relationship. This lower correlation suggests that while having a larger population may provide a bigger talent pool, it is not as strongly correlated with Olympic success as GDP. This could mean that quality of training and investment may overtake sheer quantity of potential athletes in determining Olympic success.\n",
    "\n",
    "**GDP vs. Population (0.37):**\n",
    "A correlation of 0.37 between GDP and population indicates a moderate positive relationship. This is a logical outcome as larger populations can support bigger economies, but this correlation is not very strong, suggesting that other factors (like technology, industrialization, and economic policies) also play significant roles in determining a country's GDP beyond just its population size."
   ]
  },
  {
   "cell_type": "markdown",
   "metadata": {},
   "source": [
    "As we have cleaned this data before hand in our datasets (remove country code, merge), we can do some further EDA."
   ]
  },
  {
   "cell_type": "code",
   "execution_count": 14,
   "metadata": {},
   "outputs": [
    {
     "name": "stdout",
     "output_type": "stream",
     "text": [
      "Medal\n",
      "Bronze    2.037807e+12\n",
      "Gold      3.073844e+12\n",
      "Silver    2.330608e+12\n",
      "Name: Value, dtype: float64\n"
     ]
    },
    {
     "data": {
      "text/plain": [
       "<AxesSubplot: xlabel='Medal'>"
      ]
     },
     "execution_count": 14,
     "metadata": {},
     "output_type": "execute_result"
    },
    {
     "data": {
      "image/png": "[encoded data removed]",
      "text/plain": [
       "<Figure size 720x432 with 1 Axes>"
      ]
     },
     "metadata": {
      "needs_background": "light"
     },
     "output_type": "display_data"
    }
   ],
   "source": [
    "avg_gdp_by_medal = olympics_gdp.groupby('Medal')['Value'].mean()\n",
    "print(avg_gdp_by_medal)\n",
    "\n",
    "# Visualize average GDP by medal\n",
    "plt.figure(figsize=(10, 6))\n",
    "sns.barplot(x=avg_gdp_by_medal.index, y=avg_gdp_by_medal.values)"
   ]
  },
  {
   "cell_type": "markdown",
   "metadata": {},
   "source": [
    "##### EDA/Observations\n",
    "\n",
    "* We see that there's a positive correlation, where countries with higher GDPs tend to win more Olympics medals. One can argue that this can be due to better funding for sports programs and access to training faciltiies, as mentioned in our hypothesis. Athletes that have this access gives them an advantage in competitions such as the Olympics. \n",
    "\n",
    "\n",
    "* In the scatterplot and barplot, we see that countries with bronze medals tend to have lower GDP and coutnries with gold medals tend to have higher GDPs illustrated especially in the outliers of the scatterplot. \n",
    "\n",
    "\n",
    "* This implies that there is a relationship between GDP/Olympic performance and that respective country's economic wealth because if they have the fund to support sporting, these affluent nations have a higher chance of winning medals and gain excellence in the annual Olympics.\n",
    "\n",
    "\n",
    "* Economic Strength as a Predictor of Success: The relatively strong correlation between GDP and Olympic medals emphasizes the role of economic health in supporting sports. Nations with larger economies likely have better resources to fund athlete training programs and sports science research, contributing to better Olympic outcomes.\n",
    "\n",
    "\n",
    "* Population Less Predictive: The lower correlation between population size and Olympic success indicates that merely having a large population is not enough. Strategic utilization of resources towards sports, selective nurturing of talents, and accessibility of sports programs to the populace are crucial.\n",
    "\n",
    "\n",
    "* GDP and Population Dynamics: The moderate correlation between GDP and population suggests an interlinked growth mechanism but also highlights that other sophisticated factors drive economic growth, which, in turn, might be channeling into sports success indirectly."
   ]
  },
  {
   "cell_type": "markdown",
   "metadata": {},
   "source": [
    "### Section 3: Does higher GDP or larger populations mean more Olympic success?"
   ]
  },
  {
   "cell_type": "markdown",
   "metadata": {},
   "source": [
    "**Perform an ANOVA to check if there are statistically significant differences between groups:**"
   ]
  },
  {
   "cell_type": "code",
   "execution_count": 15,
   "metadata": {},
   "outputs": [
    {
     "name": "stdout",
     "output_type": "stream",
     "text": [
      "                       sum_sq     df          F        PR(>F)\n",
      "C(GDP_Category)  2.051186e+05    2.0  83.899766  6.122871e-34\n",
      "Residual         1.024373e+06  838.0        NaN           NaN\n",
      "                              sum_sq     df          F        PR(>F)\n",
      "C(Population_Category)  1.466963e+05    2.0  56.834331  4.259202e-24\n",
      "Residual                1.282817e+06  994.0        NaN           NaN\n"
     ]
    }
   ],
   "source": [
    "# ANOVA for GDP categories\n",
    "model_gdp = ols('Medal ~ C(GDP_Category)', data=combined_data).fit()\n",
    "anova_gdp = sm.stats.anova_lm(model_gdp, typ=2)\n",
    "print(anova_gdp)\n",
    "\n",
    "# ANOVA for Population categories\n",
    "model_pop = ols('Medal ~ C(Population_Category)', data=combined_data).fit()\n",
    "anova_pop = sm.stats.anova_lm(model_pop, typ=2)\n",
    "print(anova_pop)"
   ]
  },
  {
   "cell_type": "code",
   "execution_count": 16,
   "metadata": {
    "scrolled": false
   },
   "outputs": [
    {
     "name": "stderr",
     "output_type": "stream",
     "text": [
      "/opt/conda/lib/python3.9/site-packages/seaborn/categorical.py:253: FutureWarning: The default of observed=False is deprecated and will be changed to True in a future version of pandas. Pass observed=False to retain current behavior or observed=True to adopt the future default and silence this warning.\n",
      "  grouped_vals = vals.groupby(grouper)\n"
     ]
    },
    {
     "data": {
      "image/png": "[encoded data removed]",
      "text/plain": [
       "<Figure size 432x288 with 1 Axes>"
      ]
     },
     "metadata": {
      "needs_background": "light"
     },
     "output_type": "display_data"
    },
    {
     "name": "stderr",
     "output_type": "stream",
     "text": [
      "/opt/conda/lib/python3.9/site-packages/seaborn/categorical.py:253: FutureWarning: The default of observed=False is deprecated and will be changed to True in a future version of pandas. Pass observed=False to retain current behavior or observed=True to adopt the future default and silence this warning.\n",
      "  grouped_vals = vals.groupby(grouper)\n"
     ]
    },
    {
     "data": {
      "image/png": "[encoded data removed]",
      "text/plain": [
       "<Figure size 432x288 with 1 Axes>"
      ]
     },
     "metadata": {
      "needs_background": "light"
     },
     "output_type": "display_data"
    }
   ],
   "source": [
    "# Box plots for visual inspection\n",
    "sns.boxplot(x='GDP_Category', y='Medal', data=combined_data)\n",
    "plt.show()\n",
    "\n",
    "sns.boxplot(x='Population_Category', y='Medal', data=combined_data)\n",
    "plt.show()"
   ]
  },
  {
   "cell_type": "markdown",
   "metadata": {},
   "source": [
    "##### EDA/Observations\n",
    "\n",
    "1. GDP Category\n",
    "    * F-value = 83.899766 and P-value = 6.12e-34.\n",
    "    * The F-test statistic is quite high, and the p-value is very low (practically zero), indicating that the differences in mean medal counts among the low, medium, and high GDP categories are statistically significant. This suggests that GDP has a significant impact on Olympic success.\n",
    "    * For boxplot, the median medal count increases from low to high GDP categories. The interquartile range (IQR) is wider in the high GDP category, suggesting more variability in medal counts among countries with high GDP. There are outliers in all categories, indicating that there are some countries in each category that won significantly more or fewer medals than typical for their GDP category.\n",
    "\n",
    "\n",
    "2. Population Category\n",
    "    * F-value = 56.834331 and P-value = 4.26e-24.\n",
    "    * Similarly, for population categories, the F-test statistic is also significant, and the p-value is extremely low. This implies that there are significant differences in the mean medal counts among the low, medium, and high population categories, indicating that population size also affects Olympic medal counts.\n",
    "    * For boxplot, similar to GDP, the median medal count increases from the low to high population categories. The IQR is also wider in the high population category, suggesting greater variability in medal counts among countries with larger populations. Outliers are present here as well, indicating exceptional performances or underperformances relative to other countries in the same population category.\n",
    "    \n",
    "The statistical analysis clearly supports the hypothesis that both GDP and population size are significant factors in a country's Olympic success. Countries with higher GDP and larger populations tend to win more medals. This could be due to better sports infrastructure and more significant investment in sports in wealthier, more populous countries. These factors provide better training facilities and opportunities for athletes, leading to better performances in international competitions like the Olympics."
   ]
  },
  {
   "cell_type": "markdown",
   "metadata": {},
   "source": [
    "# Ethics & Privacy"
   ]
  },
  {
   "cell_type": "markdown",
   "metadata": {},
   "source": [
    "Some issues with the data provided thus far largely stem from terms of use. While some do specify it is avaliable for public domain, as in the case of '120 years of Olympic history: athletes and results' dataset we provided, as we go along and find more datasets online, it is important to see if \n",
    "1. this data is for public use, and\n",
    "2. respectively cite/link to those projects/websites where we had collected them\n",
    "\n",
    "One ethical concern that may arise in our dataset, particularly that affects the way we are able to do work on the Olympic data, is that not all countries competed/could compete for the Olympics. Certain countries with 'head start' may show themselves to be 'better performers' when the sample of athletes may only be comprised of a few countries. One way of handling this problem is to look at when most, if not all, countries were approved to send athletes to the Olympics. By looking at these datas, we may be able to separate eras of Olympics and what countries competed in them to look at the broader picture of performance, and then do the GDP/population work therein.\n",
    "\n",
    "Another problem is the presentation of GDP as a signficant factor in Olympic performance in past research and works, a bias we have already addressed and should strive to keep in mind. We've mentioned in the background how in one study, they found out that healthcare and the country's size, rather than GDP per capita, are stronger factors in relation to Olympic performance. \n",
    "\n",
    "Some issues with our topic date is that while there may be data stretching all the way from 1896 for the Olympics, the data for countries' GDP that is made avaliable to the public may not stretch as far, and may not even be as accurate as we would require it to be. We would then need to line up the data that is available for both to truly collect and do analysis work on it. What we have done then is to limit it to 1960, understanding we may lose some work early in the 1890s and pre-1960s. However, newer data may be better as more countries are competing in the 1960s versus the early stages of the Olympics; we also mainly made this decision to provide readers with more relevant and modern data because things constantly change over time."
   ]
  },
  {
   "cell_type": "markdown",
   "metadata": {},
   "source": [
    "# Team Expectations "
   ]
  },
  {
   "cell_type": "markdown",
   "metadata": {},
   "source": [
    "\n",
    "* Team communication: Discord, smartphone group chat; use to talk about meetings, what/whose work is being done, when things are uploaded\n",
    "* Event of conflicts: have meeting on Discord, compare\n",
    "* Workload (data cleaning): \n",
    "    * Across team: compare and contrast data sets/data wrangling, decide upon best method/model/data/wrangling methods through meeting/Discord\n",
    "    * Individually: data wrangle the sets we find ourselves/data sets we decided upon.\n",
    "* Workload (EDA):\n",
    "    * Across team: compare best model, analyze merged datasets (Olympic data and GDP vs. Olympic data and population) and what is a better indicator\n",
    "    * Individually: Do EDA and modeling on our own, come back to team to see if analysis work is the same/see different models we choose\n"
   ]
  },
  {
   "cell_type": "markdown",
   "metadata": {},
   "source": [
    "# Project Timeline Proposal"
   ]
  },
  {
   "cell_type": "markdown",
   "metadata": {},
   "source": [
    "Currently as of 5/30; timeline is more defined, as data sets we have decided upon/looked are set/assured on. Need to start looking at EDA.\n",
    "\n",
    "\n",
    "\n",
    "| Meeting Date  | Meeting Time| Completed Before Meeting  | Discuss at Meeting |\n",
    "|---|---|---|---|\n",
    "| 4/25  |  9PM | Read about projects, think of problems/good things about projects  | Discuss project review, submit project review; discuss plans for project proposal, what to decide on | \n",
    "| 5/2  |  9PM |  Do background checks on topic | Discuss project proposal, work on project proposal together | \n",
    "| 5/3  | 9PM  | Edit, last minute checks on proposal | Discuss final submission for project proposal, start thinking of datasets for project   |\n",
    "| 5/6  | 9PM   | Bring up datasets | Compare, bring up datasets we have looked at, think about methods for analysis/visualization   |\n",
    "| Week of 5/15 | 9PM  | Chosen datasets at this point | Data wrangling, answer Data Checkpoint for Project ,check-in |\n",
    "| Week of 5/20 | 9PM | Partial analysis complete, finished data wrangling | Compare progress on final product, agree on thoughts before finishing final analysis |\n",
    "| Week of 5/27  | 9PM  | Complete analysis; Draft results/conclusion/discussion (Wasp)| Discuss/edit full project, finish up EDA/tie up any analysis ends |\n",
    "| Week of 6/3 | 9PM  | Record video, prepare submission | Turn in Final Project & Group Project Surveys |"
   ]
  },
  {
   "cell_type": "markdown",
   "metadata": {},
   "source": []
  }
 ],
 "metadata": {
  "kernelspec": {
   "display_name": "Python 3 (ipykernel)",
   "language": "python",
   "name": "python3"
  },
  "language_info": {
   "codemirror_mode": {
    "name": "ipython",
    "version": 3
   },
   "file_extension": ".py",
   "mimetype": "text/x-python",
   "name": "python",
   "nbconvert_exporter": "python",
   "pygments_lexer": "ipython3",
   "version": "3.9.5"
  }
 },
 "nbformat": 4,
 "nbformat_minor": 2
}
